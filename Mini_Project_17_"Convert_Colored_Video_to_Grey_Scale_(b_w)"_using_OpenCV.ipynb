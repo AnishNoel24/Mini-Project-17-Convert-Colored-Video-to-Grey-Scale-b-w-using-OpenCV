{
  "nbformat": 4,
  "nbformat_minor": 0,
  "metadata": {
    "colab": {
      "provenance": [],
      "authorship_tag": "ABX9TyMwwRQsDUFM/cHau9i/cAxq",
      "include_colab_link": true
    },
    "kernelspec": {
      "name": "python3",
      "display_name": "Python 3"
    },
    "language_info": {
      "name": "python"
    }
  },
  "cells": [
    {
      "cell_type": "markdown",
      "metadata": {
        "id": "view-in-github",
        "colab_type": "text"
      },
      "source": [
        "<a href=\"https://colab.research.google.com/github/AnishNoel24/Mini-Project-17-Convert-Colored-Video-to-Grey-Scale-b-w-using-OpenCV/blob/main/Mini_Project_17_%22Convert_Colored_Video_to_Grey_Scale_(b_w)%22_using_OpenCV.ipynb\" target=\"_parent\"><img src=\"https://colab.research.google.com/assets/colab-badge.svg\" alt=\"Open In Colab\"/></a>"
      ]
    },
    {
      "cell_type": "markdown",
      "source": [
        "**\"Download & Convert Colored Video to Grey Scale (b/w)\" using OpenCV**"
      ],
      "metadata": {
        "id": "YDiQFl2cciJ-"
      }
    },
    {
      "cell_type": "code",
      "execution_count": 4,
      "metadata": {
        "colab": {
          "base_uri": "https://localhost:8080/"
        },
        "id": "5jDmReAcap60",
        "outputId": "6de5dc5d-dc56-4aee-d6ef-18e706946c22"
      },
      "outputs": [
        {
          "output_type": "stream",
          "name": "stdout",
          "text": [
            "Downloaded: /content/DownloadedVID/video.mp4\n",
            "Converted video: /content/GreyscaledVID/video.mp4\n"
          ]
        }
      ],
      "source": [
        "import requests\n",
        "import cv2\n",
        "\n",
        "# Function to download a video from a URL\n",
        "def download_video(url, save_path):\n",
        "    response = requests.get(url, stream=True)\n",
        "    if response.status_code == 200:\n",
        "        with open(save_path, \"wb\") as file:\n",
        "            for chunk in response.iter_content(1024):\n",
        "                file.write(chunk)\n",
        "        print(f\"Downloaded: {save_path}\")\n",
        "    else:\n",
        "        print(f\"Failed to download: {url}\")\n",
        "\n",
        "# Function to convert a video to grayscale\n",
        "def convert_to_gray(video_path, save_path):\n",
        "    # Open the video file\n",
        "    video = cv2.VideoCapture(video_path)\n",
        "\n",
        "    # Get video properties\n",
        "    fps = video.get(cv2.CAP_PROP_FPS)\n",
        "    frame_width = int(video.get(cv2.CAP_PROP_FRAME_WIDTH))\n",
        "    frame_height = int(video.get(cv2.CAP_PROP_FRAME_HEIGHT))\n",
        "\n",
        "    # Create VideoWriter object to save the grayscale video\n",
        "    fourcc = cv2.VideoWriter_fourcc(*\"XVID\")\n",
        "    out = cv2.VideoWriter(save_path, fourcc, fps, (frame_width, frame_height), isColor=False)\n",
        "\n",
        "    # Process each frame and convert it to grayscale\n",
        "    while True:\n",
        "        ret, frame = video.read()\n",
        "        if not ret:\n",
        "            break\n",
        "\n",
        "        gray = cv2.cvtColor(frame, cv2.COLOR_BGR2GRAY)\n",
        "        out.write(gray)\n",
        "\n",
        "    # Release resources\n",
        "    video.release()\n",
        "    out.release()\n",
        "    cv2.destroyAllWindows()\n",
        "    print(f\"Converted video: {save_path}\")\n",
        "\n",
        "# Example usage\n",
        "video_url = \"https://joy.videvo.net/videvo_files/video/premium/partners0075/large_watermarked/BB_3d6793e9-006d-4533-b075-2f6148f5f812_preview.mp4\"  # Replace with your video URL\n",
        "save_path = \"/content/GreyscaledVID/video.mp4\"  # Replace with desired save path\n",
        "\n",
        "# Download the video\n",
        "download_video(video_url, \"/content/DownloadedVID/video.mp4\")\n",
        "\n",
        "# Convert the video to grayscale\n",
        "convert_to_gray(\"/content/DownloadedVID/video.mp4\", save_path)\n",
        "\n"
      ]
    },
    {
      "cell_type": "code",
      "source": [],
      "metadata": {
        "id": "m1Z7IjvNbOOq"
      },
      "execution_count": null,
      "outputs": []
    }
  ]
}